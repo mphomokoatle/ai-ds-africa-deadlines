{
  "nbformat": 4,
  "nbformat_minor": 0,
  "metadata": {
    "colab": {
      "name": "breast cancer binary classification.ipynb",
      "provenance": [],
      "authorship_tag": "ABX9TyOX8pWAIe7emtPgoq6+MrbE",
      "include_colab_link": true
    },
    "kernelspec": {
      "name": "python3",
      "display_name": "Python 3"
    }
  },
  "cells": [
    {
      "cell_type": "markdown",
      "metadata": {
        "id": "view-in-github",
        "colab_type": "text"
      },
      "source": [
        "<a href=\"https://colab.research.google.com/github/mphomokoatle/ai-ds-africa-deadlines/blob/gh-pages/breast_cancer_binary_classification.ipynb\" target=\"_parent\"><img src=\"https://colab.research.google.com/assets/colab-badge.svg\" alt=\"Open In Colab\"/></a>"
      ]
    },
    {
      "cell_type": "code",
      "metadata": {
        "id": "Uyr6ZOHGRsjf"
      },
      "source": [
        "import os, shutil\n",
        "#Path to the directory where the Directory where you’ll store original dataset was uncompressed\n",
        "original_dataset_dir = '/content/8863'"
      ],
      "execution_count": 2,
      "outputs": []
    },
    {
      "cell_type": "code",
      "metadata": {
        "id": "Wzzmbp63RsrB"
      },
      "source": [
        "#directory where you will store your smaller dataset\n",
        "base_dir = 'breasts_small'\n",
        "os.mkdir(base_dir)"
      ],
      "execution_count": 3,
      "outputs": []
    },
    {
      "cell_type": "code",
      "metadata": {
        "id": "zSDEjTnJRsu7"
      },
      "source": [
        "#directories for data splits in the base_dir\n",
        "train_dir = os.path.join(base_dir, 'train') \n",
        "os.mkdir(train_dir)\n",
        "validation_dir = os.path.join(base_dir, 'validation') \n",
        "os.mkdir(validation_dir)\n",
        "test_dir = os.path.join(base_dir, 'test') \n",
        "os.mkdir(test_dir)"
      ],
      "execution_count": 4,
      "outputs": []
    },
    {
      "cell_type": "code",
      "metadata": {
        "id": "-DkHVdZXRsxh"
      },
      "source": [
        "#directory with training breasts class positive pics only:\n",
        "train_cats_dir = os.path.join(train_dir, 'positive') \n",
        "os.mkdir(train_cats_dir)\n",
        "#dir with training breasts class negative pics only:\n",
        "train_dogs_dir = os.path.join(train_dir, 'negative') \n",
        "os.mkdir(train_dogs_dir)\n",
        "#dir with validation breasts class positive pics pics\n",
        "validation_cats_dir = os.path.join(validation_dir, 'positive') \n",
        "os.mkdir(validation_cats_dir)\n",
        "#dir with validation breasts class negative pics:\n",
        "validation_dogs_dir = os.path.join(validation_dir, 'negative') \n",
        "os.mkdir(validation_dogs_dir)\n",
        "#dir with test breasts class positive pics:\n",
        "test_cats_dir = os.path.join(test_dir, 'positive') \n",
        "os.mkdir(test_cats_dir)\n",
        "#dir with test breasts class negative pics:\n",
        "test_dogs_dir = os.path.join(test_dir, 'negative') \n",
        "os.mkdir(test_dogs_dir)"
      ],
      "execution_count": 5,
      "outputs": []
    },
    {
      "cell_type": "code",
      "metadata": {
        "id": "aFEUZVYpRs0M"
      },
      "source": [
        "#copies the first 300 positive images to train_cats_dir\n",
        "fnames = ['1_class1.png','2_class1.png'] \n",
        "for fname in fnames:\n",
        "  src = os.path.join('/content/8863/1', fname) \n",
        "  st = os.path.join(train_cats_dir, fname)\n",
        "  shutil.copyfile(src, st)"
      ],
      "execution_count": 12,
      "outputs": []
    },
    {
      "cell_type": "code",
      "metadata": {
        "colab": {
          "base_uri": "https://localhost:8080/"
        },
        "id": "53ULx0_uRs2U",
        "outputId": "89d9d135-3868-4dc5-9cb0-6ccfe9bb5d02"
      },
      "source": [
        "!pwd"
      ],
      "execution_count": 13,
      "outputs": [
        {
          "output_type": "stream",
          "text": [
            "/content\n"
          ],
          "name": "stdout"
        }
      ]
    },
    {
      "cell_type": "code",
      "metadata": {
        "id": "aTBhyIGhRs5d"
      },
      "source": [
        "!rm -rf /breasts_small"
      ],
      "execution_count": 15,
      "outputs": []
    },
    {
      "cell_type": "code",
      "metadata": {
        "id": "tZB6ca1cRtAc"
      },
      "source": [
        ""
      ],
      "execution_count": null,
      "outputs": []
    },
    {
      "cell_type": "code",
      "metadata": {
        "id": "G3NSo3H-RtC4"
      },
      "source": [
        ""
      ],
      "execution_count": null,
      "outputs": []
    },
    {
      "cell_type": "code",
      "metadata": {
        "id": "21Ukyv-jRtF2"
      },
      "source": [
        ""
      ],
      "execution_count": null,
      "outputs": []
    },
    {
      "cell_type": "code",
      "metadata": {
        "id": "gtncK07PRtIk"
      },
      "source": [
        ""
      ],
      "execution_count": null,
      "outputs": []
    },
    {
      "cell_type": "code",
      "metadata": {
        "id": "jWx63muGRtL-"
      },
      "source": [
        ""
      ],
      "execution_count": null,
      "outputs": []
    },
    {
      "cell_type": "code",
      "metadata": {
        "id": "yfAyLrPgRtPE"
      },
      "source": [
        ""
      ],
      "execution_count": null,
      "outputs": []
    },
    {
      "cell_type": "code",
      "metadata": {
        "id": "6mS4J-EFRtSa"
      },
      "source": [
        ""
      ],
      "execution_count": null,
      "outputs": []
    }
  ]
}